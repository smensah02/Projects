{
 "cells": [
  {
   "cell_type": "code",
   "execution_count": 22,
   "metadata": {},
   "outputs": [],
   "source": [
    "import requests\n",
    "import json\n",
    "import pandas as pd\n",
    "import time"
   ]
  },
  {
   "cell_type": "code",
   "execution_count": 24,
   "metadata": {},
   "outputs": [
    {
     "name": "stdout",
     "output_type": "stream",
     "text": [
      "https://www.reddit.com/r/todayilearned/.json\n",
      "https://www.reddit.com/r/todayilearned/.json?after=t3_9d9gan\n",
      "https://www.reddit.com/r/todayilearned/.json?after=t3_9dil3y\n",
      "https://www.reddit.com/r/todayilearned/.json?after=t3_9dkiqr\n",
      "https://www.reddit.com/r/todayilearned/.json?after=t3_9dj3ua\n",
      "https://www.reddit.com/r/todayilearned/.json?after=t3_9dmsgd\n",
      "https://www.reddit.com/r/todayilearned/.json?after=t3_9dbmg0\n",
      "https://www.reddit.com/r/todayilearned/.json?after=t3_9d8nx1\n",
      "https://www.reddit.com/r/todayilearned/.json?after=t3_9d0945\n",
      "https://www.reddit.com/r/todayilearned/.json?after=t3_9d5t1k\n",
      "https://www.reddit.com/r/todayilearned/.json?after=t3_9cw3k8\n",
      "https://www.reddit.com/r/todayilearned/.json?after=t3_9d00i6\n",
      "https://www.reddit.com/r/todayilearned/.json?after=t3_9cwyre\n",
      "https://www.reddit.com/r/todayilearned/.json?after=t3_9cy1h3\n",
      "https://www.reddit.com/r/todayilearned/.json?after=t3_9cocvf\n",
      "https://www.reddit.com/r/todayilearned/.json?after=t3_9cq0ty\n",
      "https://www.reddit.com/r/todayilearned/.json?after=t3_9cr5f1\n",
      "https://www.reddit.com/r/todayilearned/.json?after=t3_9couq7\n",
      "https://www.reddit.com/r/todayilearned/.json?after=t3_9chbr6\n",
      "https://www.reddit.com/r/todayilearned/.json?after=t3_9d21r1\n",
      "https://www.reddit.com/r/todayilearned/.json?after=t3_9cic20\n",
      "https://www.reddit.com/r/todayilearned/.json?after=t3_9cfs1l\n",
      "https://www.reddit.com/r/todayilearned/.json?after=t3_9cjodc\n",
      "https://www.reddit.com/r/todayilearned/.json?after=t3_9c98u9\n",
      "https://www.reddit.com/r/todayilearned/.json?after=t3_9c3ugp\n",
      "https://www.reddit.com/r/todayilearned/.json?after=t3_9c923f\n",
      "https://www.reddit.com/r/todayilearned/.json?after=t3_9c18ag\n",
      "https://www.reddit.com/r/todayilearned/.json\n",
      "https://www.reddit.com/r/todayilearned/.json?after=t3_9d9gan\n",
      "https://www.reddit.com/r/todayilearned/.json?after=t3_9dil3y\n",
      "https://www.reddit.com/r/todayilearned/.json?after=t3_9dkiqr\n",
      "https://www.reddit.com/r/todayilearned/.json?after=t3_9dekkf\n",
      "https://www.reddit.com/r/todayilearned/.json?after=t3_9detx5\n",
      "https://www.reddit.com/r/todayilearned/.json?after=t3_9dbmg0\n",
      "https://www.reddit.com/r/todayilearned/.json?after=t3_9d8nx1\n",
      "https://www.reddit.com/r/todayilearned/.json?after=t3_9d0945\n",
      "https://www.reddit.com/r/todayilearned/.json?after=t3_9d5t1k\n",
      "https://www.reddit.com/r/todayilearned/.json?after=t3_9cw3k8\n",
      "https://www.reddit.com/r/todayilearned/.json?after=t3_9d00i6\n",
      "https://www.reddit.com/r/todayilearned/.json?after=t3_9cwyre\n"
     ]
    }
   ],
   "source": [
    "posts = []\n",
    "after = None\n",
    "url = \"https://www.reddit.com/r/todayilearned/.json\"\n",
    "\n",
    "for i in range(40):\n",
    "    #update url\n",
    "    if after == None:\n",
    "        current_url = url\n",
    "    else: \n",
    "        current_url = url + '?after=' + after\n",
    "    print(current_url)\n",
    "    res = requests.get(current_url, headers = {'User-agent': 'project_3.1'})\n",
    "    if res.status_code != 200:\n",
    "        print('Status error', res.status_code)\n",
    "        break\n",
    "    current_dict = res.json()\n",
    "    current_posts = [p['data'] for p in current_dict['data']['children']]\n",
    "    posts.extend(current_posts)\n",
    "    after = current_dict['data']['after']\n",
    "    \n",
    "    df = pd.DataFrame(posts)\n",
    "    df.to_csv('TodayILearned.csv', index=False)\n",
    "    \n",
    "    if i > 0:\n",
    "        prev_posts = pd.read_csv('TodayILearned.csv')\n",
    "        current_df = pd.DataFrame(prev_posts)\n",
    "    else:\n",
    "        pd.DataFrame(posts).to_csv('TodayILearned.csv', index=False)\n",
    "\n",
    "    \n",
    "    time.sleep(3)"
   ]
  },
  {
   "cell_type": "code",
   "execution_count": 25,
   "metadata": {},
   "outputs": [
    {
     "data": {
      "text/plain": [
       "994"
      ]
     },
     "execution_count": 25,
     "metadata": {},
     "output_type": "execute_result"
    }
   ],
   "source": [
    "len(posts)"
   ]
  },
  {
   "cell_type": "code",
   "execution_count": 26,
   "metadata": {},
   "outputs": [
    {
     "data": {
      "text/html": [
       "<div>\n",
       "<style scoped>\n",
       "    .dataframe tbody tr th:only-of-type {\n",
       "        vertical-align: middle;\n",
       "    }\n",
       "\n",
       "    .dataframe tbody tr th {\n",
       "        vertical-align: top;\n",
       "    }\n",
       "\n",
       "    .dataframe thead th {\n",
       "        text-align: right;\n",
       "    }\n",
       "</style>\n",
       "<table border=\"1\" class=\"dataframe\">\n",
       "  <thead>\n",
       "    <tr style=\"text-align: right;\">\n",
       "      <th></th>\n",
       "      <th>approved_at_utc</th>\n",
       "      <th>approved_by</th>\n",
       "      <th>archived</th>\n",
       "      <th>author</th>\n",
       "      <th>author_cakeday</th>\n",
       "      <th>author_flair_background_color</th>\n",
       "      <th>author_flair_css_class</th>\n",
       "      <th>author_flair_richtext</th>\n",
       "      <th>author_flair_template_id</th>\n",
       "      <th>author_flair_text</th>\n",
       "      <th>...</th>\n",
       "      <th>thumbnail_height</th>\n",
       "      <th>thumbnail_width</th>\n",
       "      <th>title</th>\n",
       "      <th>ups</th>\n",
       "      <th>url</th>\n",
       "      <th>user_reports</th>\n",
       "      <th>view_count</th>\n",
       "      <th>visited</th>\n",
       "      <th>whitelist_status</th>\n",
       "      <th>wls</th>\n",
       "    </tr>\n",
       "  </thead>\n",
       "  <tbody>\n",
       "    <tr>\n",
       "      <th>0</th>\n",
       "      <td>NaN</td>\n",
       "      <td>NaN</td>\n",
       "      <td>False</td>\n",
       "      <td>foucaultsbaldhead</td>\n",
       "      <td>NaN</td>\n",
       "      <td>NaN</td>\n",
       "      <td>NaN</td>\n",
       "      <td>[]</td>\n",
       "      <td>NaN</td>\n",
       "      <td>NaN</td>\n",
       "      <td>...</td>\n",
       "      <td>78.0</td>\n",
       "      <td>140.0</td>\n",
       "      <td>TIL that libraries in Los Angeles have done aw...</td>\n",
       "      <td>41293</td>\n",
       "      <td>http://www.latimes.com/local/lanow/la-me-edu-n...</td>\n",
       "      <td>[]</td>\n",
       "      <td>NaN</td>\n",
       "      <td>False</td>\n",
       "      <td>all_ads</td>\n",
       "      <td>6</td>\n",
       "    </tr>\n",
       "    <tr>\n",
       "      <th>1</th>\n",
       "      <td>NaN</td>\n",
       "      <td>NaN</td>\n",
       "      <td>False</td>\n",
       "      <td>visionarygirl</td>\n",
       "      <td>NaN</td>\n",
       "      <td>NaN</td>\n",
       "      <td>NaN</td>\n",
       "      <td>[]</td>\n",
       "      <td>NaN</td>\n",
       "      <td>NaN</td>\n",
       "      <td>...</td>\n",
       "      <td>78.0</td>\n",
       "      <td>140.0</td>\n",
       "      <td>TIL that Japanese hornets can grow up to the s...</td>\n",
       "      <td>4744</td>\n",
       "      <td>http://canyouactually.com/the-terrifying-japan...</td>\n",
       "      <td>[]</td>\n",
       "      <td>NaN</td>\n",
       "      <td>False</td>\n",
       "      <td>all_ads</td>\n",
       "      <td>6</td>\n",
       "    </tr>\n",
       "    <tr>\n",
       "      <th>2</th>\n",
       "      <td>NaN</td>\n",
       "      <td>NaN</td>\n",
       "      <td>False</td>\n",
       "      <td>Mass1m01973</td>\n",
       "      <td>NaN</td>\n",
       "      <td>NaN</td>\n",
       "      <td>NaN</td>\n",
       "      <td>[]</td>\n",
       "      <td>NaN</td>\n",
       "      <td>NaN</td>\n",
       "      <td>...</td>\n",
       "      <td>87.0</td>\n",
       "      <td>140.0</td>\n",
       "      <td>TIL about Otto, an octopus that was able to cl...</td>\n",
       "      <td>3560</td>\n",
       "      <td>https://www.telegraph.co.uk/news/newstopics/ho...</td>\n",
       "      <td>[]</td>\n",
       "      <td>NaN</td>\n",
       "      <td>False</td>\n",
       "      <td>all_ads</td>\n",
       "      <td>6</td>\n",
       "    </tr>\n",
       "    <tr>\n",
       "      <th>3</th>\n",
       "      <td>NaN</td>\n",
       "      <td>NaN</td>\n",
       "      <td>False</td>\n",
       "      <td>ShrinknShrivel</td>\n",
       "      <td>NaN</td>\n",
       "      <td>NaN</td>\n",
       "      <td>NaN</td>\n",
       "      <td>[]</td>\n",
       "      <td>NaN</td>\n",
       "      <td>NaN</td>\n",
       "      <td>...</td>\n",
       "      <td>91.0</td>\n",
       "      <td>140.0</td>\n",
       "      <td>TIL There are whales alive today who were born...</td>\n",
       "      <td>41392</td>\n",
       "      <td>https://www.smithsonianmag.com/smart-news/ther...</td>\n",
       "      <td>[]</td>\n",
       "      <td>NaN</td>\n",
       "      <td>False</td>\n",
       "      <td>all_ads</td>\n",
       "      <td>6</td>\n",
       "    </tr>\n",
       "    <tr>\n",
       "      <th>4</th>\n",
       "      <td>NaN</td>\n",
       "      <td>NaN</td>\n",
       "      <td>False</td>\n",
       "      <td>Mass1m01973</td>\n",
       "      <td>NaN</td>\n",
       "      <td>NaN</td>\n",
       "      <td>NaN</td>\n",
       "      <td>[]</td>\n",
       "      <td>NaN</td>\n",
       "      <td>NaN</td>\n",
       "      <td>...</td>\n",
       "      <td>140.0</td>\n",
       "      <td>140.0</td>\n",
       "      <td>TIL that because the character of Montgomery S...</td>\n",
       "      <td>2553</td>\n",
       "      <td>https://www.nytimes.com/2005/07/20/arts/televi...</td>\n",
       "      <td>[]</td>\n",
       "      <td>NaN</td>\n",
       "      <td>False</td>\n",
       "      <td>all_ads</td>\n",
       "      <td>6</td>\n",
       "    </tr>\n",
       "  </tbody>\n",
       "</table>\n",
       "<p>5 rows × 94 columns</p>\n",
       "</div>"
      ],
      "text/plain": [
       "   approved_at_utc  approved_by  archived             author author_cakeday  \\\n",
       "0              NaN          NaN     False  foucaultsbaldhead            NaN   \n",
       "1              NaN          NaN     False      visionarygirl            NaN   \n",
       "2              NaN          NaN     False        Mass1m01973            NaN   \n",
       "3              NaN          NaN     False     ShrinknShrivel            NaN   \n",
       "4              NaN          NaN     False        Mass1m01973            NaN   \n",
       "\n",
       "   author_flair_background_color author_flair_css_class author_flair_richtext  \\\n",
       "0                            NaN                    NaN                    []   \n",
       "1                            NaN                    NaN                    []   \n",
       "2                            NaN                    NaN                    []   \n",
       "3                            NaN                    NaN                    []   \n",
       "4                            NaN                    NaN                    []   \n",
       "\n",
       "   author_flair_template_id  author_flair_text ...  thumbnail_height  \\\n",
       "0                       NaN                NaN ...              78.0   \n",
       "1                       NaN                NaN ...              78.0   \n",
       "2                       NaN                NaN ...              87.0   \n",
       "3                       NaN                NaN ...              91.0   \n",
       "4                       NaN                NaN ...             140.0   \n",
       "\n",
       "  thumbnail_width                                              title    ups  \\\n",
       "0           140.0  TIL that libraries in Los Angeles have done aw...  41293   \n",
       "1           140.0  TIL that Japanese hornets can grow up to the s...   4744   \n",
       "2           140.0  TIL about Otto, an octopus that was able to cl...   3560   \n",
       "3           140.0  TIL There are whales alive today who were born...  41392   \n",
       "4           140.0  TIL that because the character of Montgomery S...   2553   \n",
       "\n",
       "                                                 url  user_reports  \\\n",
       "0  http://www.latimes.com/local/lanow/la-me-edu-n...            []   \n",
       "1  http://canyouactually.com/the-terrifying-japan...            []   \n",
       "2  https://www.telegraph.co.uk/news/newstopics/ho...            []   \n",
       "3  https://www.smithsonianmag.com/smart-news/ther...            []   \n",
       "4  https://www.nytimes.com/2005/07/20/arts/televi...            []   \n",
       "\n",
       "   view_count  visited  whitelist_status  wls  \n",
       "0         NaN    False           all_ads    6  \n",
       "1         NaN    False           all_ads    6  \n",
       "2         NaN    False           all_ads    6  \n",
       "3         NaN    False           all_ads    6  \n",
       "4         NaN    False           all_ads    6  \n",
       "\n",
       "[5 rows x 94 columns]"
      ]
     },
     "execution_count": 26,
     "metadata": {},
     "output_type": "execute_result"
    }
   ],
   "source": [
    "current_df.head()"
   ]
  },
  {
   "cell_type": "code",
   "execution_count": 27,
   "metadata": {},
   "outputs": [
    {
     "data": {
      "text/plain": [
       "994"
      ]
     },
     "execution_count": 27,
     "metadata": {},
     "output_type": "execute_result"
    }
   ],
   "source": [
    "len(current_df)"
   ]
  },
  {
   "cell_type": "code",
   "execution_count": 28,
   "metadata": {},
   "outputs": [],
   "source": [
    "current_df = current_df.drop_duplicates()"
   ]
  },
  {
   "cell_type": "code",
   "execution_count": 29,
   "metadata": {},
   "outputs": [
    {
     "data": {
      "text/plain": [
       "994"
      ]
     },
     "execution_count": 29,
     "metadata": {},
     "output_type": "execute_result"
    }
   ],
   "source": [
    "len(current_df)"
   ]
  },
  {
   "cell_type": "code",
   "execution_count": 30,
   "metadata": {},
   "outputs": [],
   "source": [
    "# Export to csv\n",
    "current_df.to_csv('TodayILearned_clean.csv', index=False)"
   ]
  },
  {
   "cell_type": "code",
   "execution_count": null,
   "metadata": {},
   "outputs": [],
   "source": []
  }
 ],
 "metadata": {
  "kernelspec": {
   "display_name": "Python 3",
   "language": "python",
   "name": "python3"
  },
  "language_info": {
   "codemirror_mode": {
    "name": "ipython",
    "version": 3
   },
   "file_extension": ".py",
   "mimetype": "text/x-python",
   "name": "python",
   "nbconvert_exporter": "python",
   "pygments_lexer": "ipython3",
   "version": "3.6.5"
  }
 },
 "nbformat": 4,
 "nbformat_minor": 2
}
